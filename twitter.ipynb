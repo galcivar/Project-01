{
 "cells": [
  {
   "cell_type": "markdown",
   "metadata": {},
   "source": [
    "# Project 1\n"
   ]
  },
  {
   "cell_type": "code",
   "execution_count": 49,
   "metadata": {},
   "outputs": [],
   "source": [
    "import tweepy\n",
    "from dotenv import load_dotenv\n",
    "import os\n",
    "import json"
   ]
  },
  {
   "cell_type": "code",
   "execution_count": 50,
   "metadata": {},
   "outputs": [],
   "source": [
    "# Load Environment Variables\n",
    "load_dotenv()\n",
    "\n",
    "TWITTER_API = os.getenv('TWITTER_API')\n",
    "TWITTER_SECRET = str(os.getenv('TWITTER_SECRET'))\n",
    "TWITTER_ACCESS_TOKEN = os.getenv('TWITTER_ACCESS_TOKEN')\n",
    "TWITTER_ACCESS_SECRET = os.getenv('TWITTER_ACCESS_SECRET')\n",
    "\n",
    "auth = tweepy.OAuthHandler(TWITTER_API, TWITTER_SECRET)\n",
    "auth.set_access_token(TWITTER_ACCESS_TOKEN, TWITTER_ACCESS_SECRET)"
   ]
  },
  {
   "cell_type": "code",
   "execution_count": 62,
   "metadata": {},
   "outputs": [
    {
     "data": {
      "text/plain": [
       "'{\"created_at\": \"Mon Feb 07 16:45:05 +0000 2022\", \"id\": 1490728332345987078, \"id_str\": \"1490728332345987078\", \"text\": \"We have just completed an allocation of cryptoassets to our corporate treasury, our firm\\\\u2019s first of its kind invest\\\\u2026 https://t.co/sGGhDE2Z8v\", \"truncated\": true, \"entities\": {\"hashtags\": [], \"symbols\": [], \"user_mentions\": [], \"urls\": [{\"url\": \"https://t.co/sGGhDE2Z8v\", \"expanded_url\": \"https://twitter.com/i/web/status/1490728332345987078\", \"display_url\": \"twitter.com/i/web/status/1\\\\u2026\", \"indices\": [117, 140]}]}, \"metadata\": {\"result_type\": \"popular\", \"iso_language_code\": \"en\"}, \"source\": \"<a href=\\\\\"https://sproutsocial.com\\\\\" rel=\\\\\"nofollow\\\\\">Sprout Social</a>\", \"in_reply_to_status_id\": null, \"in_reply_to_status_id_str\": null, \"in_reply_to_user_id\": null, \"in_reply_to_user_id_str\": null, \"in_reply_to_screen_name\": null, \"user\": {\"id\": 90520238, \"id_str\": \"90520238\", \"name\": \"KPMG Canada\", \"screen_name\": \"KPMG_Canada\", \"location\": \"Canada\", \"description\": \"With a global network of professionals, KPMG responds to clients\\' complex business challenges across Canada and around the world. #LetsDoThis\", \"url\": \"https://t.co/RhH7MNWYeV\", \"entities\": {\"url\": {\"urls\": [{\"url\": \"https://t.co/RhH7MNWYeV\", \"expanded_url\": \"http://home.kpmg/ca\", \"display_url\": \"home.kpmg/ca\", \"indices\": [0, 23]}]}, \"description\": {\"urls\": []}}, \"protected\": false, \"followers_count\": 26641, \"friends_count\": 1926, \"listed_count\": 561, \"created_at\": \"Tue Nov 17 00:12:04 +0000 2009\", \"favourites_count\": 3084, \"utc_offset\": null, \"time_zone\": null, \"geo_enabled\": true, \"verified\": true, \"statuses_count\": 16221, \"lang\": null, \"contributors_enabled\": false, \"is_translator\": false, \"is_translation_enabled\": false, \"profile_background_color\": \"F3F4F8\", \"profile_background_image_url\": \"http://abs.twimg.com/images/themes/theme1/bg.png\", \"profile_background_image_url_https\": \"https://abs.twimg.com/images/themes/theme1/bg.png\", \"profile_background_tile\": true, \"profile_image_url\": \"http://pbs.twimg.com/profile_images/1460638144114663426/jYtJ7QWH_normal.jpg\", \"profile_image_url_https\": \"https://pbs.twimg.com/profile_images/1460638144114663426/jYtJ7QWH_normal.jpg\", \"profile_banner_url\": \"https://pbs.twimg.com/profile_banners/90520238/1637078247\", \"profile_link_color\": \"024DA8\", \"profile_sidebar_border_color\": \"E7ECF8\", \"profile_sidebar_fill_color\": \"FFFFFF\", \"profile_text_color\": \"444444\", \"profile_use_background_image\": true, \"has_extended_profile\": false, \"default_profile\": false, \"default_profile_image\": false, \"following\": false, \"follow_request_sent\": false, \"notifications\": false, \"translator_type\": \"none\", \"withheld_in_countries\": []}, \"geo\": null, \"coordinates\": null, \"place\": null, \"contributors\": null, \"is_quote_status\": false, \"retweet_count\": 3090, \"favorite_count\": 11797, \"favorited\": false, \"retweeted\": false, \"possibly_sensitive\": false, \"lang\": \"en\"}'"
      ]
     },
     "execution_count": 62,
     "metadata": {},
     "output_type": "execute_result"
    }
   ],
   "source": [
    "api = tweepy.API(auth)\n",
    "q = \"bitcoin\"\n",
    "btc_tweets = api.search_tweets(q,result_type=\"popular\")\n",
    "\n",
    "#Example of data returned\n",
    "json.dumps(btc_tweets[0]._json)\n"
   ]
  },
  {
   "cell_type": "code",
   "execution_count": 63,
   "metadata": {},
   "outputs": [
    {
     "name": "stdout",
     "output_type": "stream",
     "text": [
      "Text: We have just completed an allocation of cryptoassets to our corporate treasury, our firm’s first of its kind invest… https://t.co/sGGhDE2Z8v\n",
      "Followers: 26641\n",
      "Favorites: 3084\n",
      "Retweets: 3090\n",
      "User: KPMG_Canada\n",
      "\n",
      "Text: Tesla reports $1.99 billion in #bitcoin holdings\n",
      "Followers: 198322\n",
      "Favorites: 25218\n",
      "Retweets: 1759\n",
      "User: Blockworks_\n",
      "\n",
      "Text: #Bitcoin is the price of #Freedom.\n",
      "Followers: 2195871\n",
      "Favorites: 2318\n",
      "Retweets: 2404\n",
      "User: saylor\n",
      "\n",
      "Text: Lightning Network is now available on Cash App. It's the fastest, free way to pay anyone in bitcoin.\n",
      "\n",
      "Buy tacos, ti… https://t.co/eat4WAHuZy\n",
      "Followers: 1700001\n",
      "Favorites: 7485\n",
      "Retweets: 1367\n",
      "User: CashApp\n",
      "\n",
      "Text: JUST IN - Fox News highlighted that people are donating #bitcoin to the protesting truckers since GoFundMe suspende… https://t.co/FSC5lVINJI\n",
      "Followers: 2104456\n",
      "Favorites: 21921\n",
      "Retweets: 889\n",
      "User: BitcoinMagazine\n",
      "\n",
      "Text: Hey @TomBrady so @MikeEvans13_ threw my Pro Bowl TD ball in the stands… I heard he has a tendency to do these type… https://t.co/ys5M38pp50\n",
      "Followers: 112591\n",
      "Favorites: 8451\n",
      "Retweets: 1119\n",
      "User: JuiceCheck44\n",
      "\n",
      "Text: BREAKING: #Bitcoin has flipped Facebook (META) in market capitalization and is now the 9th most valuable asset in the world.\n",
      "Followers: 611487\n",
      "Favorites: 46076\n",
      "Retweets: 789\n",
      "User: WatcherGuru\n",
      "\n",
      "Text: Mexico’s third richest man: \"People should save in #Bitcoin.\" 🇲🇽 https://t.co/Eo4oy7VMie\n",
      "Followers: 2104456\n",
      "Favorites: 21921\n",
      "Retweets: 859\n",
      "User: BitcoinMagazine\n",
      "\n",
      "Text: JUST IN - Canadian tax and advisory service KPMG bought #bitcoin for its corporate treasury 🙌\n",
      "Followers: 2104456\n",
      "Favorites: 21921\n",
      "Retweets: 1280\n",
      "User: BitcoinMagazine\n",
      "\n",
      "Text: “It is very important in life to know when your cue comes.” - Kierkegaard on #Bitcoin\n",
      "Followers: 2195871\n",
      "Favorites: 2318\n",
      "Retweets: 655\n",
      "User: saylor\n",
      "\n",
      "Text: JUST IN: Nasdaq has approved #Bitcoin miners #ETF by Valkyrie!\n",
      "Followers: 611487\n",
      "Favorites: 46076\n",
      "Retweets: 892\n",
      "User: WatcherGuru\n",
      "\n",
      "Text: #Bitcoin is now the 8th largest asset in the world\n",
      "Followers: 198322\n",
      "Favorites: 25218\n",
      "Retweets: 1135\n",
      "User: Blockworks_\n",
      "\n"
     ]
    }
   ],
   "source": [
    "# Show certain data\n",
    "for btc_tweet in btc_tweets:\n",
    "    print(f\"Text: {btc_tweet.text}\")\n",
    "    print(f\"Followers: {btc_tweet.user.followers_count}\")\n",
    "    print(f\"Favorites: {btc_tweet.user.favourites_count}\")\n",
    "    print(f\"Retweets: {btc_tweet.retweet_count}\")\n",
    "    print(f\"User: {btc_tweet.user.screen_name}\\n\")\n"
   ]
  },
  {
   "cell_type": "code",
   "execution_count": null,
   "metadata": {},
   "outputs": [],
   "source": []
  }
 ],
 "metadata": {
  "kernelspec": {
   "display_name": "Python 3.7.11 64-bit ('dev': conda)",
   "language": "python",
   "name": "python3711jvsc74a57bd0031c6feeb2f4a45b81f49bc63f4349779b1ca77aa31178ffe6d389f35e50f837"
  },
  "language_info": {
   "codemirror_mode": {
    "name": "ipython",
    "version": 3
   },
   "file_extension": ".py",
   "mimetype": "text/x-python",
   "name": "python",
   "nbconvert_exporter": "python",
   "pygments_lexer": "ipython3",
   "version": "3.7.11"
  }
 },
 "nbformat": 4,
 "nbformat_minor": 4
}
